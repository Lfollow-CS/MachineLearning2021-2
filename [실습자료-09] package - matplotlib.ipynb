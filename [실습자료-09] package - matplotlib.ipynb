{
 "cells": [
  {
   "cell_type": "markdown",
   "metadata": {
    "id": "IOckSD1C8yqQ",
    "school_cell_uuid": "4ec1dba0d165424e821c5028c9d468e6"
   },
   "source": [
    "# 시각화 패키지 Matplotlib 소개\n",
    "[참고사이트:데이터사이언스스쿨](https://datascienceschool.net/01%20python/05.01%20%EC%8B%9C%EA%B0%81%ED%99%94%20%ED%8C%A8%ED%82%A4%EC%A7%80%20%EB%A7%B7%ED%94%8C%EB%A1%AF%EB%A6%AC%EB%B8%8C%20%EC%86%8C%EA%B0%9C.html)"
   ]
  },
  {
   "cell_type": "markdown",
   "metadata": {
    "id": "as3TB2mO8yqS",
    "school_cell_uuid": "89acff444b2c4866932cb9e95f82f2a2"
   },
   "source": [
    "Matplotlib는 파이썬에서 자료를 차트(chart)나 플롯(plot)으로 시각화(visulaization)하는 패키지이다.\n",
    "Matplotlib는 다음과 같은 정형화된 차트나 플롯 이외에도 저수준 api를 사용한 다양한 시각화 기능을 제공한다.\n",
    "\n",
    "* 라인 플롯(line plot)\n",
    "* 스캐터 플롯(scatter plot)\n",
    "* 컨투어 플롯(contour plot)\n",
    "* 서피스 플롯(surface plot)\n",
    "* 바 차트(bar chart)\n",
    "* 히스토그램(histogram)\n",
    "* 박스 플롯(box plot)\n"
   ]
  },
  {
   "cell_type": "markdown",
   "metadata": {
    "id": "jcET68ge8yqS",
    "school_cell_uuid": "71b481443c72480981f6f7d15d461d25"
   },
   "source": [
    "Matplotlib를 사용한 시각화 예제들을 보고 싶다면 Matplotlib 갤러리 웹사이트를 방문한다.\n",
    "\n",
    "* https://matplotlib.org/stable/"
   ]
  },
  {
   "cell_type": "markdown",
   "metadata": {
    "id": "5JeBJ4JB8yqT",
    "school_cell_uuid": "136849bd95f54cf0aac383303984bdea"
   },
   "source": [
    "## pyplot 서브패키지"
   ]
  },
  {
   "cell_type": "markdown",
   "metadata": {
    "id": "j9gYX0rx8yqU",
    "school_cell_uuid": "9d482c02836942569f53027f94e758af"
   },
   "source": [
    "Matplotlib 패키지에는 pyplot 이라는 서브패키지가 존재한다. 이 pyplot 서브패키지는 matlab 의 시각화 명령을 거의 그대로 사용할 수 있도록 Matplotlib 의 하위 API를 포장(wrapping)한 명령어 집합을 제공한다.\n",
    "\n",
    "Matplotlib 패키지를 사용할 때는 보통 다음과 같이 주 패키지는 `mpl` 이라는 별칭(alias)으로 임포트하고 pyplot 서브패키지는 `plt` 라는 다른 별칭으로 임포트하여 사용하는 것이 관례이므로 여기에서도 이러한 방법을 사용한다."
   ]
  },
  {
   "cell_type": "code",
   "execution_count": 1,
   "metadata": {
    "colab": {
     "base_uri": "https://localhost:8080/"
    },
    "executionInfo": {
     "elapsed": 7,
     "status": "ok",
     "timestamp": 1631600210669,
     "user": {
      "displayName": "Gibak Kim",
      "photoUrl": "https://lh3.googleusercontent.com/a-/AOh14GgbFbml6z8lQNV327XRlCTfxtfTpEoyiQmS6-E--A=s64",
      "userId": "14281352184965130749"
     },
     "user_tz": -540
    },
    "id": "6AuIlPDY8yqV",
    "outputId": "652f0dc2-b03f-45a8-bb54-951585bc0a83",
    "school_cell_uuid": "ccdce73bf40c4005a2ba891dd22d8dce"
   },
   "outputs": [
    {
     "name": "stdout",
     "output_type": "stream",
     "text": [
      "3.4.2\n"
     ]
    }
   ],
   "source": [
    "import matplotlib as mpl\n",
    "import matplotlib.pyplot as plt\n",
    "print(mpl.__version__)\n",
    "import numpy as np"
   ]
  },
  {
   "cell_type": "markdown",
   "metadata": {
    "id": "XNW1CMJt8yqX",
    "school_cell_uuid": "0673e9552e8940e29bf3b896097fa930"
   },
   "source": [
    "주피터 노트북을 사용하는 경우에는 다음처럼 매직(magic) 명령으로 노트북 내부에 그림을 표시하도록 지정해야 한다.\n",
    "\n",
    "```\n",
    "%matplotlib inline\n",
    "```"
   ]
  },
  {
   "cell_type": "markdown",
   "metadata": {
    "id": "1NovjvQ3hmNK"
   },
   "source": [
    "<img src=\"https://www.dropbox.com/s/oqc1qxb12m8e9hi/%EC%8A%A4%ED%81%AC%EB%A6%B0%EC%83%B7%202018-08-24%2017.03.16.png?raw=1\" width=\"600\">\n",
    "\n",
    "<https://zzsza.github.io/development/2018/08/24/data-visualization-in-python/>"
   ]
  },
  {
   "cell_type": "markdown",
   "metadata": {
    "id": "dtM7ydkajIei"
   },
   "source": [
    "Figure\n",
    "* Figure는 그림이 그려지는 도화지\n",
    " * 우선 Figure를 그린 후, plt.subplots로 도화지를 분할해 각 부분에 그래프를 그리는 방식으로 진행\n",
    " * plt.figure를 명시적으로 표현해주는 것이 좋으나, plot 함수에서 자동으로 figure를 생성하기 때문에 자주 사용하진 않음\n",
    " * 그러나 현재 figure에 접근해야 할 필요성이 있다면, plt.gcf()로 접근할 수 있음\n",
    "* size를 조절하고 싶은 경우엔 fig.set_size_inches(18.5, 10.5)\n",
    " * 또는 plt.figure(figsize=(10,5))\n",
    " * 또는 plt.rcParams['figure.figsize'] = (10,7)\n",
    " \n",
    " Axes\n",
    " * Axes는 plot이 그려지는 공간\n",
    " \n",
    " Axis\n",
    " * plot의 축\n",
    " \n",
    " <img src=\"https://www.dropbox.com/s/2n4hgu3db5t8twq/%EC%8A%A4%ED%81%AC%EB%A6%B0%EC%83%B7%202018-08-24%2017.45.14.png?raw=1\" width=\"300\">"
   ]
  },
  {
   "cell_type": "markdown",
   "metadata": {
    "id": "rmL7TeSl8yqZ",
    "school_cell_uuid": "e5a532e576b347ba84c2d620716c2447"
   },
   "source": [
    "## 라인 플롯"
   ]
  },
  {
   "cell_type": "markdown",
   "metadata": {
    "id": "xnSFrIjO8yqa",
    "school_cell_uuid": "7084de697f0941829297af3049e628e9"
   },
   "source": [
    "가장 간단한 플롯은 선을 그리는 라인 플롯(line plot)이다. 라인 플롯은 데이터가 시간, 순서 등에 따라 어떻게 변화하는지 보여주기 위해 사용한다.\n",
    "\n",
    "명령은 pyplot 서브패키지의 `plot` 명령을 사용한다.\n",
    "\n",
    "* http://Matplotlib.org/api/pyplot_api.html#Matplotlib.pyplot.plot\n",
    "\n",
    "만약 데이터가 1, 4, 9, 16 으로 변화하였다면 다음과 같이 `plot` 명령에 데이터 리스트 혹은 `ndarray` 객체를 넘긴다."
   ]
  },
  {
   "cell_type": "code",
   "execution_count": 3,
   "metadata": {
    "colab": {
     "base_uri": "https://localhost:8080/",
     "height": 298
    },
    "executionInfo": {
     "elapsed": 281,
     "status": "ok",
     "timestamp": 1631600494644,
     "user": {
      "displayName": "Gibak Kim",
      "photoUrl": "https://lh3.googleusercontent.com/a-/AOh14GgbFbml6z8lQNV327XRlCTfxtfTpEoyiQmS6-E--A=s64",
      "userId": "14281352184965130749"
     },
     "user_tz": -540
    },
    "id": "FeF3RpJU8yqb",
    "outputId": "59afb0aa-2788-4c5f-a25d-67753dd8275f",
    "school_cell_uuid": "b0200931f608466881b25eb3e7f7a540"
   },
   "outputs": [
    {
     "data": {
      "image/png": "[encoded data removed]",
      "text/plain": [
       "<Figure size 432x288 with 1 Axes>"
      ]
     },
     "metadata": {
      "needs_background": "light"
     },
     "output_type": "display_data"
    }
   ],
   "source": [
    "plt.title(\"Plot\")\n",
    "plt.plot([1, 4, 9, 16])\n",
    "plt.show()"
   ]
  },
  {
   "cell_type": "markdown",
   "metadata": {
    "id": "48YhrTdu8yqg",
    "school_cell_uuid": "304aa797096e4ba5849f4d8cadba93c2"
   },
   "source": [
    "이 때 x 축의 자료 위치 즉, 틱(tick)은 자동으로 0, 1, 2, 3 이 된다. 만약 이 x tick 위치를 별도로 명시하고 싶다면 다음과 같이 두 개의 같은 길이의 리스트 혹은 배열 자료를 넣는다."
   ]
  },
  {
   "cell_type": "code",
   "execution_count": 3,
   "metadata": {
    "colab": {
     "base_uri": "https://localhost:8080/",
     "height": 281
    },
    "executionInfo": {
     "elapsed": 956,
     "status": "ok",
     "timestamp": 1631600522272,
     "user": {
      "displayName": "Gibak Kim",
      "photoUrl": "https://lh3.googleusercontent.com/a-/AOh14GgbFbml6z8lQNV327XRlCTfxtfTpEoyiQmS6-E--A=s64",
      "userId": "14281352184965130749"
     },
     "user_tz": -540
    },
    "id": "Wn1v28DL8yqi",
    "outputId": "8b5d0d17-9459-4b1d-97e5-6a5779d4f18e",
    "school_cell_uuid": "1ee241b5b2e74435a340998e94e84dfd"
   },
   "outputs": [
    {
     "data": {
      "image/png": "[encoded data removed]",
      "text/plain": [
       "<Figure size 432x288 with 1 Axes>"
      ]
     },
     "metadata": {
      "needs_background": "light"
     },
     "output_type": "display_data"
    }
   ],
   "source": [
    "plt.title(\"Place x-tick\")\n",
    "plt.plot([10, 20, 30, 40], [1, 4, 9, 16])\n",
    "plt.show()"
   ]
  },
  {
   "cell_type": "markdown",
   "metadata": {
    "id": "JhTPg4C88yql",
    "school_cell_uuid": "e16a9eec2b264b4da7d482299f866289"
   },
   "source": [
    "`show` 명령은 시각화 명령을 실제로 차트로 렌더링(rendering)하고 마우스 움직임 등의 이벤트를 기다리라는 지시이다.\n",
    "주피터 노트북에서는 셀 단위로 플롯 명령을 자동 렌더링 해주므로 `show` 명령이 필요없지만 일반 파이썬 인터프리터로 가동되는 경우를 대비하여 항상 마지막에 실행하도록 한다. "
   ]
  },
  {
   "cell_type": "markdown",
   "metadata": {
    "id": "OzcKYaTw8yqm",
    "school_cell_uuid": "5031b0ba96584e01a259f426adb4bebe"
   },
   "source": [
    "## 스타일 지정"
   ]
  },
  {
   "cell_type": "markdown",
   "metadata": {
    "id": "xZoJaYVI8yqn",
    "school_cell_uuid": "01b7b89afa084177993298aa03dd2e8c"
   },
   "source": [
    "플롯 명령어는 보는 사람이 그림을 더 알아보기 쉽게 하기 위해 다양한 스타일(style)을 지원한다. `plot` 명령어에서는 다음과 같이 추가 문자열 인수를 사용하여 스타일을 지원한다."
   ]
  },
  {
   "cell_type": "code",
   "execution_count": 4,
   "metadata": {
    "colab": {
     "base_uri": "https://localhost:8080/",
     "height": 281
    },
    "executionInfo": {
     "elapsed": 341,
     "status": "ok",
     "timestamp": 1631600665161,
     "user": {
      "displayName": "Gibak Kim",
      "photoUrl": "https://lh3.googleusercontent.com/a-/AOh14GgbFbml6z8lQNV327XRlCTfxtfTpEoyiQmS6-E--A=s64",
      "userId": "14281352184965130749"
     },
     "user_tz": -540
    },
    "id": "uUoDdgj88yqo",
    "outputId": "dc8379a3-d81a-4f80-a126-75a34c6aaa13",
    "school_cell_uuid": "ee5e7514f9a7403eab23fe6354d46858"
   },
   "outputs": [
    {
     "data": {
      "image/png": "[encoded data removed]",
      "text/plain": [
       "<Figure size 432x288 with 1 Axes>"
      ]
     },
     "metadata": {
      "needs_background": "light"
     },
     "output_type": "display_data"
    }
   ],
   "source": [
    "plt.title(\"'rs--' style plot \")\n",
    "plt.plot([10, 20, 30, 40], [1, 4, 9, 16], 'go:')\n",
    "plt.show()"
   ]
  },
  {
   "cell_type": "markdown",
   "metadata": {
    "id": "yNW7JxL_8yqq",
    "school_cell_uuid": "35eb5cd08f374a289a861b243587ee49"
   },
   "source": [
    "스타일 문자열은 색깔(color), 마커(marker), 선 종류(line style)의 순서로 지정한다. 만약 이 중 일부가 생략되면 디폴트값이 적용된다."
   ]
  },
  {
   "cell_type": "markdown",
   "metadata": {
    "id": "vuhNVHZO8yqs",
    "school_cell_uuid": "0f467bb64b9240d28ae7c0af7d5caacf"
   },
   "source": [
    "### 색깔"
   ]
  },
  {
   "cell_type": "markdown",
   "metadata": {
    "id": "7Bm4C7Ax8yqt",
    "school_cell_uuid": "c3c3d74a3f324214967155f0da9f1426"
   },
   "source": [
    "색깔을 지정하는 방법은 색 이름 혹은 약자를 사용하거나 `#` 문자로 시작되는 RGB코드를 사용한다.\n",
    "\n",
    "자주 사용되는 색깔은 한글자 약자를 사용할 수 있으며 약자는 아래 표에 정리하였다. 전체 색깔 목록은 다음 웹사이트를 참조한다.\n",
    "\n",
    "* http://Matplotlib.org/examples/color/named_colors.html\n",
    "\n",
    "| 문자열 | 약자 |\n",
    "|-|-|\n",
    "| `blue` | `b` |\n",
    "| `green` | `g` |\n",
    "| `red` | `r` |\n",
    "| `cyan` | `c` |\n",
    "| `magenta` | `m` |\n",
    "| `yellow` | `y` |\n",
    "| `black` | `k` |\n",
    "| `white` | `w` |\n"
   ]
  },
  {
   "cell_type": "markdown",
   "metadata": {
    "id": "qff2SGrS8yqu",
    "school_cell_uuid": "c21b5fb53a794ee4bbfd77aa1b0ba760"
   },
   "source": [
    "### 마커"
   ]
  },
  {
   "cell_type": "markdown",
   "metadata": {
    "id": "IciUE7-J8yqu",
    "school_cell_uuid": "66d7050eb8df4930b3c4f921d9df6ef2"
   },
   "source": [
    " 데이터 위치를 나타내는 기호를 마커(marker)라고 한다. 마커의 종류는 다음과 같다.\n",
    "\n",
    "| 마커 문자열 | 의미 |\n",
    "|-|-|\n",
    "| `.` | point marker  |\n",
    "| `,` | pixel marker |\n",
    "| `o` | circle marker |\n",
    "| `v` | triangle_down marker |\n",
    "| `^` | triangle_up marker |\n",
    "| `<` | triangle_left marker |\n",
    "| `>` | triangle_right marker |\n",
    "| `1` | tri_down marker |\n",
    "| `2` | tri_up marker |\n",
    "| `3` | tri_left marker |\n",
    "| `4` | tri_right marker |\n",
    "| `s` | square marker |\n",
    "| `p` | pentagon marker |\n",
    "| `*` | star marker |\n",
    "| `h` | hexagon1 marker |\n",
    "| `H` | hexagon2 marker |\n",
    "| `+` | plus marker |\n",
    "| `x` | x marker |\n",
    "| `D` | diamond marker |\n",
    "| `d` | thin_diamond marker |"
   ]
  },
  {
   "cell_type": "markdown",
   "metadata": {
    "id": "HGIm5cR38yqw",
    "school_cell_uuid": "8af88898a2c94bf3b01a81486a49378f"
   },
   "source": [
    "### 선 스타일"
   ]
  },
  {
   "cell_type": "markdown",
   "metadata": {
    "id": "W1LOjUEB8yqx",
    "school_cell_uuid": "e9e7b2c37dfc408382cd3f8a658e618e"
   },
   "source": [
    "선 스타일에는 실선(solid), 대시선(dashed), 점선(dotted), 대시-점선(dash-dit) 이 있다. 지정 문자열은 다음과 같다.\n",
    "\n",
    "| 선 스타일 문자열 | 의미 |\n",
    "|-|-|\n",
    "| `-` |  solid line style\n",
    "| `--` |  dashed line style\n",
    "| `-.` |  dash-dot line style\n",
    "| `:` |  dotted line style"
   ]
  },
  {
   "cell_type": "markdown",
   "metadata": {
    "id": "BHeJD0k88yq5",
    "school_cell_uuid": "b92b6e2db64244039b797eb02229feb5"
   },
   "source": [
    "## 그림 범위 지정"
   ]
  },
  {
   "cell_type": "markdown",
   "metadata": {
    "id": "zCaKzsn_8yq5",
    "school_cell_uuid": "52d43748580b4056be52ea0a6df1acea"
   },
   "source": [
    "플롯 그림을 보면 몇몇 점들은 그림의 범위 경계선에 있어서 잘 보이지 않는 경우가 있을 수 있다. 그림의 범위를 수동으로 지정하려면 `xlim` 명령과 `ylim` 명령을 사용한다. 이 명령들은 그림의 범위가 되는 x축, y축의 최소값과 최대값을 지정한다."
   ]
  },
  {
   "cell_type": "code",
   "execution_count": 9,
   "metadata": {
    "colab": {
     "base_uri": "https://localhost:8080/",
     "height": 281
    },
    "executionInfo": {
     "elapsed": 273,
     "status": "ok",
     "timestamp": 1631600698481,
     "user": {
      "displayName": "Gibak Kim",
      "photoUrl": "https://lh3.googleusercontent.com/a-/AOh14GgbFbml6z8lQNV327XRlCTfxtfTpEoyiQmS6-E--A=s64",
      "userId": "14281352184965130749"
     },
     "user_tz": -540
    },
    "id": "YECAIBLC8yq6",
    "outputId": "7b5ee854-2a27-4d8b-e6fa-33c646be24c0",
    "school_cell_uuid": "1b572b3d7c874fe68ba7af6ed207c6cc"
   },
   "outputs": [
    {
     "data": {
      "image/png": "[encoded data removed]",
      "text/plain": [
       "<Figure size 432x288 with 1 Axes>"
      ]
     },
     "metadata": {
      "needs_background": "light"
     },
     "output_type": "display_data"
    }
   ],
   "source": [
    "plt.title(\"range of axes\")\n",
    "plt.plot([10, 20, 30, 40], [1, 4, 9, 16],\n",
    "         c=\"b\", lw=5, ls=\"--\", marker=\"o\", ms=15, mec=\"g\", mew=5, mfc=\"r\")\n",
    "plt.xlim(20, 30)\n",
    "plt.ylim(-10, 30)\n",
    "plt.show()"
   ]
  },
  {
   "cell_type": "markdown",
   "metadata": {
    "id": "sgQzZ3718yrP",
    "school_cell_uuid": "fcef5cf0ea0f418395f3570865fafa40"
   },
   "source": [
    "## 여러개의 선을 그리기"
   ]
  },
  {
   "cell_type": "markdown",
   "metadata": {
    "id": "sHsq-JuT8yrP",
    "school_cell_uuid": "ddcfcd5d752e4e618be72126fc27a07c"
   },
   "source": [
    "라인 플롯에서 선을 하나가 아니라 여러개를 그리고 싶은 경우에는 x 데이터, y 데이터, 스타일 문자열을 반복하여 인수로 넘긴다. 이 경우에는 하나의 선을 그릴 때 처럼 x 데이터나 스타일 문자열을 생략할 수 없다."
   ]
  },
  {
   "cell_type": "code",
   "execution_count": 5,
   "metadata": {
    "colab": {
     "base_uri": "https://localhost:8080/",
     "height": 281
    },
    "executionInfo": {
     "elapsed": 301,
     "status": "ok",
     "timestamp": 1631600710899,
     "user": {
      "displayName": "Gibak Kim",
      "photoUrl": "https://lh3.googleusercontent.com/a-/AOh14GgbFbml6z8lQNV327XRlCTfxtfTpEoyiQmS6-E--A=s64",
      "userId": "14281352184965130749"
     },
     "user_tz": -540
    },
    "id": "_aKUFKRr8yrQ",
    "outputId": "d2a8bfa3-d199-4c5b-8308-e06438893dbd",
    "school_cell_uuid": "3a18e9d84f3e42a98941c39d1098e37e"
   },
   "outputs": [
    {
     "data": {
      "image/png": "[encoded data removed]",
      "text/plain": [
       "<Figure size 432x288 with 1 Axes>"
      ]
     },
     "metadata": {
      "needs_background": "light"
     },
     "output_type": "display_data"
    }
   ],
   "source": [
    "t = np.arange(0., 5., 0.2)\n",
    "plt.title(\"Multiple lines\")\n",
    "plt.plot(t, t, 'r--')\n",
    "plt.plot(t, 0.5 * t**2, 'bs:')\n",
    "plt.plot(t, 0.2 * t**3, 'g^-')\n",
    "plt.show()"
   ]
  },
  {
   "cell_type": "markdown",
   "metadata": {
    "id": "ci5QRQSA8yrb",
    "school_cell_uuid": "105251066e4d424f80607a8983a0ffd6"
   },
   "source": [
    "## x축, y축 라벨, 타이틀"
   ]
  },
  {
   "cell_type": "markdown",
   "metadata": {
    "id": "W7VcqElr8yrb",
    "school_cell_uuid": "a9230f1994564a6c9f0277d3993b58e5"
   },
   "source": [
    "플롯의 x축 위치와 y축 위치에는 각각 그 데이터가 의미하는 바를 표시하기 위해 라벨(label)를 추가할 수 있다. 라벨을 붙이려면 `xlabel`. `ylabel` 명령을 사용한다. 또 플롯의 위에는 `title` 명령으로 제목(title)을 붙일 수 있다."
   ]
  },
  {
   "cell_type": "code",
   "execution_count": 6,
   "metadata": {
    "colab": {
     "base_uri": "https://localhost:8080/",
     "height": 295
    },
    "executionInfo": {
     "elapsed": 325,
     "status": "ok",
     "timestamp": 1631600764329,
     "user": {
      "displayName": "Gibak Kim",
      "photoUrl": "https://lh3.googleusercontent.com/a-/AOh14GgbFbml6z8lQNV327XRlCTfxtfTpEoyiQmS6-E--A=s64",
      "userId": "14281352184965130749"
     },
     "user_tz": -540
    },
    "id": "IFVtErYB8yrc",
    "outputId": "4546ed39-a181-4963-98fd-bab082806ebd",
    "school_cell_uuid": "f0fc733042104916b95368af338f5a70"
   },
   "outputs": [
    {
     "data": {
      "image/png": "[encoded data removed]",
      "text/plain": [
       "<Figure size 432x288 with 1 Axes>"
      ]
     },
     "metadata": {
      "needs_background": "light"
     },
     "output_type": "display_data"
    }
   ],
   "source": [
    "X = np.linspace(-np.pi, np.pi, 256)\n",
    "C, S = np.cos(X), np.sin(X)\n",
    "plt.plot(X, C, label=\"cosine\")\n",
    "plt.xlabel(\"time\")\n",
    "plt.ylabel(\"amplitude\")\n",
    "plt.title(\"Cosine Plot\")\n",
    "plt.legend()\n",
    "plt.show()"
   ]
  },
  {
   "cell_type": "markdown",
   "metadata": {
    "id": "gs2vfeK28yre",
    "school_cell_uuid": "8fa972ce99c24586942b8cd35f41f212"
   },
   "source": [
    "## 그림의 구조"
   ]
  },
  {
   "cell_type": "markdown",
   "metadata": {
    "id": "8iTJ6GPh8yrr",
    "school_cell_uuid": "c5b3b36373ee4bfcb40078a4a7bf8d82"
   },
   "source": [
    "### Axes 객체와 `subplot` 명령"
   ]
  },
  {
   "cell_type": "markdown",
   "metadata": {
    "id": "-ALClRCh8yrs",
    "school_cell_uuid": "f64845a1ed534ddca75633b9166f323f"
   },
   "source": [
    "때로는 다음과 같이 하나의 윈도우(Figure)안에 여러개의 플롯을 배열 형태로 보여야하는 경우도 있다. Figure 안에 있는 각각의 플롯은 Axes 라고 불리는 객체에 속한다. Axes 객체에 대한 자세한 설명은 다음 웹사이트를 참조한다.\n",
    "\n",
    "* http://Matplotlib.org/api/axes_api.html#Matplotlib.axes.Axes"
   ]
  },
  {
   "cell_type": "markdown",
   "metadata": {
    "id": "PnaPf0FT8yrs",
    "school_cell_uuid": "4d48701356504db6b62489f7dafe0ccd"
   },
   "source": [
    "Figure 안에 Axes를 생성하려면 원래 `subplot` 명령을 사용하여 명시적으로 Axes 객체를 얻어야 한다. 그러나 plot 명령을 바로 사용해도 자동으로 Axes를 생성해 준다.\n",
    "\n",
    "`subplot` 명령은 그리드(grid) 형태의 Axes 객체들을 생성하는데 Figure가 행렬(matrix)이고 Axes가 행렬의 원소라고 생각하면 된다. 예를 들어 \n",
    "위와 아래 두 개의 플롯이 있는 경우 행이 2 이고 열이 1인 2x1 행렬이다.  `subplot` 명령은 세개의 인수를 가지는데 처음 두개의 원소가 전체 그리드 행렬의 모양을 지시하는 두 숫자이고 세번째 인수가 네 개 중 어느것인지를 의미하는 숫자이다. 따라서 위/아래 두개의 플롯을 하나의 Figure 안에 그리려면 다음처럼 명령을 실행해야 한다. 여기에서 숫자 인덱싱은 파이썬이 아닌 Matlab 관행을 따르기 때문에 첫번째 플롯을 가리키는 숫자가 0이 아니라 1임에 주의하라.\n",
    "\n",
    "\n",
    "```\n",
    "subplot(2, 1, 1)\n",
    "# 여기에서 윗부분에 그릴 플롯 명령 실행\n",
    "subplot(2, 1, 2)\n",
    "# 여기에서 아랫부분에 그릴 플롯 명령 실행\n",
    "```\n",
    "\n",
    "\n",
    "`tight_layout` 명령을 실행하면 플롯간의 간격을 자동으로 맞춰준다."
   ]
  },
  {
   "cell_type": "code",
   "execution_count": 8,
   "metadata": {
    "colab": {
     "base_uri": "https://localhost:8080/",
     "height": 297
    },
    "executionInfo": {
     "elapsed": 902,
     "status": "ok",
     "timestamp": 1631600791587,
     "user": {
      "displayName": "Gibak Kim",
      "photoUrl": "https://lh3.googleusercontent.com/a-/AOh14GgbFbml6z8lQNV327XRlCTfxtfTpEoyiQmS6-E--A=s64",
      "userId": "14281352184965130749"
     },
     "user_tz": -540
    },
    "id": "le1hApas8yrt",
    "outputId": "813b4c75-7eba-4eb2-b21b-1c25b67333e1",
    "school_cell_uuid": "d5b847a8734d49a987fb34b613bf6fcc"
   },
   "outputs": [
    {
     "data": {
      "image/png": "[encoded data removed]",
      "text/plain": [
       "<Figure size 432x288 with 2 Axes>"
      ]
     },
     "metadata": {
      "needs_background": "light"
     },
     "output_type": "display_data"
    }
   ],
   "source": [
    "x1 = np.linspace(0.0, 5.0)\n",
    "x2 = np.linspace(0.0, 2.0)\n",
    "y1 = np.cos(2 * np.pi * x1) * np.exp(-x1)\n",
    "y2 = np.cos(2 * np.pi * x2)\n",
    "\n",
    "plt.subplot(2, 1, 1)\n",
    "plt.plot(x1, y1, 'yo-')\n",
    "plt.title('A tale of 2 subplots')\n",
    "plt.ylabel('Damped oscillation')\n",
    "\n",
    "\n",
    "plt.subplot(2, 1, 2)\n",
    "plt.plot(x2, y2, 'r.-')\n",
    "plt.title('A tale of 2 subplots')\n",
    "plt.xlabel('time (s)')\n",
    "plt.ylabel('Undamped')\n",
    "\n",
    "plt.tight_layout()\n",
    "plt.show()"
   ]
  },
  {
   "cell_type": "markdown",
   "metadata": {
    "id": "0VdemwxE8yry",
    "school_cell_uuid": "b57f3cd7cc534e359ae84a690bc3aa59"
   },
   "source": [
    "만약 2x2 형태의 네 개의 플롯이라면 다음과 같이 그린다. 이 때 `subplot` 의 인수는 (2,2,1)를 줄여서 221 라는 하나의 숫자로 표시할 수도 있다.\n",
    "Axes의 위치는 위에서 부터 아래로, 왼쪽에서 오른쪽으로 카운트한다."
   ]
  },
  {
   "cell_type": "code",
   "execution_count": 16,
   "metadata": {
    "colab": {
     "base_uri": "https://localhost:8080/",
     "height": 297
    },
    "executionInfo": {
     "elapsed": 824,
     "status": "ok",
     "timestamp": 1631600858017,
     "user": {
      "displayName": "Gibak Kim",
      "photoUrl": "https://lh3.googleusercontent.com/a-/AOh14GgbFbml6z8lQNV327XRlCTfxtfTpEoyiQmS6-E--A=s64",
      "userId": "14281352184965130749"
     },
     "user_tz": -540
    },
    "id": "-HiURzF68yry",
    "outputId": "624cd766-659f-46c7-f6e0-bc8f49edb4c3",
    "school_cell_uuid": "7a79f1c8c0894ec093b60bbdaf7f101d"
   },
   "outputs": [
    {
     "data": {
      "image/png": "[encoded data removed]",
      "text/plain": [
       "<Figure size 432x288 with 4 Axes>"
      ]
     },
     "metadata": {
      "needs_background": "light"
     },
     "output_type": "display_data"
    }
   ],
   "source": [
    "np.random.seed(0)\n",
    "\n",
    "plt.subplot(221)\n",
    "plt.plot(np.random.rand(5))\n",
    "plt.title(\"axes 1\")\n",
    "\n",
    "plt.subplot(222)\n",
    "plt.plot(np.random.rand(5))\n",
    "plt.title(\"axes 2\")\n",
    "\n",
    "plt.subplot(223)\n",
    "plt.plot(np.random.rand(5))\n",
    "plt.title(\"axes 3\")\n",
    "\n",
    "plt.subplot(224)\n",
    "plt.plot(np.random.rand(5))\n",
    "plt.title(\"axes 4\")\n",
    "\n",
    "plt.tight_layout()\n",
    "plt.show()"
   ]
  },
  {
   "cell_type": "markdown",
   "metadata": {
    "id": "Pynf7KpVdbYO",
    "school_cell_uuid": "7e210b26f053433b9cf9059a1f6a49c5"
   },
   "source": [
    "# Matplotlib의 여러가지 플롯"
   ]
  },
  {
   "cell_type": "markdown",
   "metadata": {
    "id": "c0Jwiel9dbYQ",
    "school_cell_uuid": "f078754f324b4649b332e699db94a9b7"
   },
   "source": [
    "## 바 차트"
   ]
  },
  {
   "cell_type": "markdown",
   "metadata": {
    "id": "ytv4YG7XdbYR",
    "school_cell_uuid": "d4099823a1c24eeea92b8f8507819ead"
   },
   "source": [
    "x 데이터가 카테고리 값인 경우에는 `bar` 명령과 `barh` 명령으로 바 차트(bar chart) 시각화를 할 수 있다. 가로 방향으로 바 차트를 그리려면 `barh` 명령을 사용한다.\n",
    "\n",
    "자세한 내용은 다음 웹사이트를 참조한다.\n",
    "\n",
    "* http://matplotlib.org/api/pyplot_api.html#matplotlib.pyplot.bar\n",
    "* http://matplotlib.org/api/pyplot_api.html#matplotlib.pyplot.barh"
   ]
  },
  {
   "cell_type": "markdown",
   "metadata": {
    "id": "P-VHA-qVdbYS",
    "school_cell_uuid": "c99da6289f6f4202b95750a05816bc7d"
   },
   "source": [
    "바 차트 작성시 주의점은 첫번째 인수인 `left` 가 x축에서 바(bar)의 왼쪽 변의 위치를 나타낸다는 점이다. "
   ]
  },
  {
   "cell_type": "code",
   "execution_count": 17,
   "metadata": {
    "colab": {
     "base_uri": "https://localhost:8080/",
     "height": 295
    },
    "executionInfo": {
     "elapsed": 281,
     "status": "ok",
     "timestamp": 1631600926815,
     "user": {
      "displayName": "Gibak Kim",
      "photoUrl": "https://lh3.googleusercontent.com/a-/AOh14GgbFbml6z8lQNV327XRlCTfxtfTpEoyiQmS6-E--A=s64",
      "userId": "14281352184965130749"
     },
     "user_tz": -540
    },
    "id": "9QAjL3sPdbYT",
    "outputId": "41f267f5-7db7-43bd-f60c-2b3013e301d0",
    "school_cell_uuid": "c1702f5103c34386a19d0f21121f8a2f"
   },
   "outputs": [
    {
     "data": {
      "image/png": "[encoded data removed]",
      "text/plain": [
       "<Figure size 432x288 with 1 Axes>"
      ]
     },
     "metadata": {
      "needs_background": "light"
     },
     "output_type": "display_data"
    }
   ],
   "source": [
    "y = [2, 3, 1]\n",
    "x = np.arange(len(y))\n",
    "xlabel = ['A', 'B', 'C']\n",
    "plt.title(\"Bar Chart\")\n",
    "plt.bar(x, y)\n",
    "plt.xticks(x, xlabel)\n",
    "plt.yticks(sorted(y))\n",
    "plt.xlabel(\"ABC\")\n",
    "plt.ylabel(\"Frequency\")\n",
    "plt.show()"
   ]
  },
  {
   "cell_type": "markdown",
   "metadata": {
    "id": "pplRZK0QdbYn",
    "school_cell_uuid": "92f25c8b6f2241338737e43061a266b8"
   },
   "source": [
    "## 히스토그램"
   ]
  },
  {
   "cell_type": "markdown",
   "metadata": {
    "id": "ve8HpiKLdbYo",
    "school_cell_uuid": "43904ad951eb4f68bdc180156f53468f"
   },
   "source": [
    "히스토그램을 그리기 위한 `hist` 명령도 있다. `hist` 명령은 `bins` 인수로 데이터를 집계할 구간 정보를 받는다. 반환값으로 데이터 집계 결과를 반환한다.\n",
    "\n",
    "* http://matplotlib.org/api/pyplot_api.html#matplotlib.pyplot.hist"
   ]
  },
  {
   "cell_type": "code",
   "execution_count": 23,
   "metadata": {
    "colab": {
     "base_uri": "https://localhost:8080/",
     "height": 545
    },
    "executionInfo": {
     "elapsed": 284,
     "status": "ok",
     "timestamp": 1631601028097,
     "user": {
      "displayName": "Gibak Kim",
      "photoUrl": "https://lh3.googleusercontent.com/a-/AOh14GgbFbml6z8lQNV327XRlCTfxtfTpEoyiQmS6-E--A=s64",
      "userId": "14281352184965130749"
     },
     "user_tz": -540
    },
    "id": "jGwDTq8WdbYp",
    "outputId": "b87dbe22-83cb-4f74-cec2-a51889c801a2",
    "school_cell_uuid": "53347bc9678140deaaa4f45a23f579e7"
   },
   "outputs": [
    {
     "data": {
      "image/png": "[encoded data removed]",
      "text/plain": [
       "<Figure size 432x288 with 1 Axes>"
      ]
     },
     "metadata": {
      "needs_background": "light"
     },
     "output_type": "display_data"
    },
    {
     "data": {
      "image/png": "[encoded data removed]",
      "text/plain": [
       "<Figure size 432x288 with 1 Axes>"
      ]
     },
     "metadata": {
      "needs_background": "light"
     },
     "output_type": "display_data"
    }
   ],
   "source": [
    "np.random.seed(0)\n",
    "x = np.random.randn(1000)\n",
    "plt.title(\"Histogram\")\n",
    "arrays, bins, patches = plt.hist(x,bins=20)\n",
    "plt.show()\n",
    "\n",
    "plt.title(\"Cumulative Histogram\")\n",
    "plt.hist(x, cumulative=True, bins=50)\n",
    "plt.show()\n"
   ]
  },
  {
   "cell_type": "markdown",
   "metadata": {
    "id": "L5frvHy4dbY1",
    "school_cell_uuid": "7519997ce40246c69c8e3666cef67369"
   },
   "source": [
    "## 스캐터 플롯"
   ]
  },
  {
   "cell_type": "markdown",
   "metadata": {
    "id": "VMl5OmradbY1",
    "school_cell_uuid": "832c66e93982410a86118dde99664b25"
   },
   "source": [
    "2차원 데이터 즉, 두 개의 실수 데이터 집합의 상관관계를 살펴보려면 `scatter` 명령으로 스캐터 플롯을 그린다. 스캐터 플롯의 점 하나의 위치는 데이터 하나의 x, y 값이다.\n",
    "\n",
    "* http://matplotlib.org/api/pyplot_api.html#matplotlib.pyplot.scatter"
   ]
  },
  {
   "cell_type": "code",
   "execution_count": 24,
   "metadata": {
    "colab": {
     "base_uri": "https://localhost:8080/",
     "height": 281
    },
    "executionInfo": {
     "elapsed": 2547,
     "status": "ok",
     "timestamp": 1631601062614,
     "user": {
      "displayName": "Gibak Kim",
      "photoUrl": "https://lh3.googleusercontent.com/a-/AOh14GgbFbml6z8lQNV327XRlCTfxtfTpEoyiQmS6-E--A=s64",
      "userId": "14281352184965130749"
     },
     "user_tz": -540
    },
    "id": "jDf5ovm3dbY2",
    "outputId": "255542a4-c829-43c7-ef91-9e518ed0defb",
    "school_cell_uuid": "104a69210b174b939a419f6aac96c2ca"
   },
   "outputs": [
    {
     "data": {
      "image/png": "[encoded data removed]",
      "text/plain": [
       "<Figure size 432x288 with 1 Axes>"
      ]
     },
     "metadata": {
      "needs_background": "light"
     },
     "output_type": "display_data"
    }
   ],
   "source": [
    "np.random.seed(0)\n",
    "X = np.random.normal(0, 1, 100)\n",
    "Y = np.random.normal(0, 1, 100)\n",
    "plt.title(\"Scatter Plot\")\n",
    "plt.scatter(X, Y)\n",
    "plt.axis('equal')\n",
    "plt.show()"
   ]
  },
  {
   "cell_type": "code",
   "execution_count": null,
   "metadata": {},
   "outputs": [],
   "source": []
  }
 ],
 "metadata": {
  "colab": {
   "collapsed_sections": [],
   "name": "[실습자료-09] package - matplotlib.ipynb",
   "provenance": [
    {
     "file_id": "1kcFrP0gEm9-blEaziYfTCt1UqSwFhyfH",
     "timestamp": 1631599626846
    },
    {
     "file_id": "1n0G8lcpE8X41oRWPA_ygvaZpi-UIhM_W",
     "timestamp": 1553519976024
    }
   ]
  },
  "kernelspec": {
   "display_name": "Python 3 (ipykernel)",
   "language": "python",
   "name": "python3"
  },
  "language_info": {
   "codemirror_mode": {
    "name": "ipython",
    "version": 3
   },
   "file_extension": ".py",
   "mimetype": "text/x-python",
   "name": "python",
   "nbconvert_exporter": "python",
   "pygments_lexer": "ipython3",
   "version": "3.8.8"
  }
 },
 "nbformat": 4,
 "nbformat_minor": 4
}
